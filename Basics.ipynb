{
 "cells": [
  {
   "cell_type": "markdown",
   "metadata": {},
   "source": [
    "**Analysis for Data Set from Hacker News**\n",
    "\n",
    "Here will be an analysis for some data from the website Hacker News. We will be observing if the tags \"Ask HN\" and \"Show HN\" receive more comments on average. We will also be looking to see if posts created at a certain time receive more comments on average."
   ]
  },
  {
   "cell_type": "code",
   "execution_count": 2,
   "metadata": {},
   "outputs": [
    {
     "name": "stdout",
     "output_type": "stream",
     "text": [
      "24483\n",
      "14.038417431192661\n",
      "11988\n",
      "10.31669535283993\n"
     ]
    }
   ],
   "source": [
    "from csv import reader\n",
    "\n",
    "open_file = open('hacker_news.csv')\n",
    "read_file = reader(open_file)\n",
    "hn = list(read_file)\n",
    "\n",
    "# removing the header with the data column names\n",
    "header = hn[0]\n",
    "hn = hn[1:]\n",
    "\n",
    "ask_posts = []\n",
    "show_posts = []\n",
    "other_posts = []\n",
    "\n",
    "# create list within list of data based on whether\n",
    "# the article title started with 'ask hn' or 'show hn'\n",
    "for row in hn:\n",
    "    title = row[1]\n",
    "    if title.lower().startswith('ask hn'):\n",
    "        ask_posts.append(row)\n",
    "    if title.lower().startswith('show hn'):\n",
    "        show_posts.append(row)\n",
    "    else:\n",
    "        other_posts.append(row)\n",
    "\n",
    "# for 'ask hn' posts calculating the total amount of comments\n",
    "# and average amount of comments\n",
    "total_ask_comments = 0\n",
    "avg_ask = 0\n",
    "for row in ask_posts:\n",
    "    val = int(row[4])\n",
    "    avg_ask += 1\n",
    "    total_ask_comments += val\n",
    "    avg_ask_comments = total_ask_comments / avg_ask\n",
    "    \n",
    "print(total_ask_comments)\n",
    "print(avg_ask_comments)\n",
    "\n",
    "# for 'show hn' posts calculating the total amount of comments\n",
    "# and average amount of comments\n",
    "total_show_comments = 0\n",
    "avg_show = 0\n",
    "for row in show_posts:\n",
    "    val = int(row[4])\n",
    "    avg_show += 1\n",
    "    total_show_comments += val\n",
    "    avg_show_comments = total_show_comments / avg_show\n",
    "    \n",
    "print(total_show_comments)\n",
    "print(avg_show_comments)"
   ]
  },
  {
   "cell_type": "markdown",
   "metadata": {
    "collapsed": true
   },
   "source": [
    "Based on my findings ask posts receive more comments than show posts with an average of 14.0 comments per item versus 10.3 comments per item. This could be because ask posts are explicitly seeking comments."
   ]
  },
  {
   "cell_type": "code",
   "execution_count": 10,
   "metadata": {},
   "outputs": [
    {
     "name": "stdout",
     "output_type": "stream",
     "text": [
      "Top 5 Hours to Ask Posts Comments\n",
      "15:00: 38.59 average comments per post\n",
      "02:00: 23.81 average comments per post\n",
      "20:00: 21.52 average comments per post\n",
      "16:00: 16.80 average comments per post\n",
      "21:00: 16.01 average comments per post\n"
     ]
    }
   ],
   "source": [
    "import datetime as dt\n",
    "\n",
    "# since ask posts had a higher average comments only looking into them\n",
    "# create a list within list with the first value of the list being\n",
    "# the date with time and the second value being the amount of comments\n",
    "result_list = []\n",
    "for row in ask_posts:\n",
    "    result_list.append([row[6],int(row[4])])\n",
    "\n",
    "counts_by_hour = {}\n",
    "comments_by_hour = {}\n",
    "\n",
    "# formating the first value of each list and removing the hour element\n",
    "# then counting the amount of posts by the number of posts\n",
    "# and by the amount of comments\n",
    "for row in result_list:\n",
    "    full_date = dt.datetime.strptime(row[0], '%m/%d/%Y %H:%M')\n",
    "    time_dt = dt.datetime.strftime(full_date, '%H')\n",
    "    \n",
    "    if time_dt in counts_by_hour:\n",
    "        counts_by_hour[time_dt] += 1\n",
    "        comments_by_hour[time_dt] += row[1]\n",
    "    else:\n",
    "        counts_by_hour[time_dt] = 1\n",
    "        comments_by_hour[time_dt] = row[1]\n",
    "\n",
    "# calculating the average per hour and average per comments\n",
    "avg_by_hour = []\n",
    "for avg_hour in counts_by_hour:\n",
    "    avg_val = comments_by_hour[avg_hour] / counts_by_hour[avg_hour]\n",
    "    avg_by_hour.append([avg_hour, avg_val])\n",
    "\n",
    "# created a new list where the order of the lists were swapped\n",
    "swap_avg_by_hour = []\n",
    "for row in avg_by_hour:\n",
    "    row_1 = row[1]\n",
    "    row_2 = row[0]\n",
    "    swap_avg_by_hour.append([row_1, row_2])\n",
    "\n",
    "# sorted the list by the highest value to the smallest\n",
    "sorted_swap = sorted(swap_avg_by_hour, reverse=True)\n",
    "\n",
    "print(\"Top 5 Hours to Ask Posts Comments\")\n",
    "for row in sorted_swap[:5]:\n",
    "    template = \"{}: {:.2f} average comments per post\"\n",
    "    # format the average hour to be an hour\n",
    "    get_hrs = dt.datetime.strptime(row[1], '%H')\n",
    "    hrs = dt.datetime.strftime(get_hrs, '%H:%M')\n",
    "    print(template.format(hrs, row[0]))"
   ]
  },
  {
   "cell_type": "markdown",
   "metadata": {
    "collapsed": true
   },
   "source": [
    "Based on my findings the best time to post an ask post is at 3pm by far, but "
   ]
  }
 ],
 "metadata": {
  "kernelspec": {
   "display_name": "Python 3",
   "language": "python",
   "name": "python3"
  },
  "language_info": {
   "codemirror_mode": {
    "name": "ipython",
    "version": 3
   },
   "file_extension": ".py",
   "mimetype": "text/x-python",
   "name": "python",
   "nbconvert_exporter": "python",
   "pygments_lexer": "ipython3",
   "version": "3.6.7"
  }
 },
 "nbformat": 4,
 "nbformat_minor": 2
}
